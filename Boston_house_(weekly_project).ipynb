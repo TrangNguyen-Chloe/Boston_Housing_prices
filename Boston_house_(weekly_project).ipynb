{
  "nbformat": 4,
  "nbformat_minor": 0,
  "metadata": {
    "colab": {
      "name": "Boston_house (weekly project).ipynb",
      "provenance": [],
      "collapsed_sections": [
        "wK8B3NRlbigf"
      ]
    },
    "kernelspec": {
      "name": "python3",
      "display_name": "Python 3"
    },
    "language_info": {
      "name": "python"
    }
  },
  "cells": [
    {
      "cell_type": "markdown",
      "metadata": {
        "id": "vRVMb-MMpxzt"
      },
      "source": [
        "# EDA"
      ]
    },
    {
      "cell_type": "code",
      "metadata": {
        "id": "n-nvVOF5p4Ph"
      },
      "source": [
        "import pandas as pd\n",
        "import numpy as np\n",
        "import matplotlib.pyplot as plt\n",
        "import seaborn as sns\n"
      ],
      "execution_count": null,
      "outputs": []
    },
    {
      "cell_type": "code",
      "metadata": {
        "id": "AwvBEHhboyVI"
      },
      "source": [
        "df = pd.read_csv('https://raw.githubusercontent.com/anhquan0412/boston_housing/master/housing.csv')"
      ],
      "execution_count": null,
      "outputs": []
    },
    {
      "cell_type": "markdown",
      "metadata": {
        "id": "obskRNeAsUEP"
      },
      "source": [
        "RM' is the average number of rooms among homes in the neighborhood.\n",
        "\n",
        "'LSTAT' is the percentage of homeowners in the neighborhood considered \"lower class\" (working poor).\n",
        "\n",
        "'PTRATIO' is the ratio of students to teachers in primary and secondary schools in the neighborhood."
      ]
    },
    {
      "cell_type": "code",
      "metadata": {
        "colab": {
          "base_uri": "https://localhost:8080/",
          "height": 359
        },
        "id": "bV6lrUFRrdE5",
        "outputId": "b4dc7b88-b5ec-45d0-fbc3-01e05a0c7457"
      },
      "source": [
        "df.sample(10)"
      ],
      "execution_count": null,
      "outputs": [
        {
          "output_type": "execute_result",
          "data": {
            "text/html": [
              "<div>\n",
              "<style scoped>\n",
              "    .dataframe tbody tr th:only-of-type {\n",
              "        vertical-align: middle;\n",
              "    }\n",
              "\n",
              "    .dataframe tbody tr th {\n",
              "        vertical-align: top;\n",
              "    }\n",
              "\n",
              "    .dataframe thead th {\n",
              "        text-align: right;\n",
              "    }\n",
              "</style>\n",
              "<table border=\"1\" class=\"dataframe\">\n",
              "  <thead>\n",
              "    <tr style=\"text-align: right;\">\n",
              "      <th></th>\n",
              "      <th>RM</th>\n",
              "      <th>LSTAT</th>\n",
              "      <th>PTRATIO</th>\n",
              "      <th>MEDV</th>\n",
              "    </tr>\n",
              "  </thead>\n",
              "  <tbody>\n",
              "    <tr>\n",
              "      <th>369</th>\n",
              "      <td>4.652</td>\n",
              "      <td>28.28</td>\n",
              "      <td>20.2</td>\n",
              "      <td>220500.0</td>\n",
              "    </tr>\n",
              "    <tr>\n",
              "      <th>90</th>\n",
              "      <td>6.417</td>\n",
              "      <td>8.81</td>\n",
              "      <td>17.8</td>\n",
              "      <td>474600.0</td>\n",
              "    </tr>\n",
              "    <tr>\n",
              "      <th>332</th>\n",
              "      <td>6.696</td>\n",
              "      <td>7.18</td>\n",
              "      <td>17.6</td>\n",
              "      <td>501900.0</td>\n",
              "    </tr>\n",
              "    <tr>\n",
              "      <th>305</th>\n",
              "      <td>5.914</td>\n",
              "      <td>18.33</td>\n",
              "      <td>18.4</td>\n",
              "      <td>373800.0</td>\n",
              "    </tr>\n",
              "    <tr>\n",
              "      <th>34</th>\n",
              "      <td>6.096</td>\n",
              "      <td>20.34</td>\n",
              "      <td>21.0</td>\n",
              "      <td>283500.0</td>\n",
              "    </tr>\n",
              "    <tr>\n",
              "      <th>353</th>\n",
              "      <td>3.561</td>\n",
              "      <td>7.12</td>\n",
              "      <td>20.2</td>\n",
              "      <td>577500.0</td>\n",
              "    </tr>\n",
              "    <tr>\n",
              "      <th>389</th>\n",
              "      <td>4.138</td>\n",
              "      <td>23.34</td>\n",
              "      <td>20.2</td>\n",
              "      <td>249900.0</td>\n",
              "    </tr>\n",
              "    <tr>\n",
              "      <th>418</th>\n",
              "      <td>6.629</td>\n",
              "      <td>23.27</td>\n",
              "      <td>20.2</td>\n",
              "      <td>281400.0</td>\n",
              "    </tr>\n",
              "    <tr>\n",
              "      <th>49</th>\n",
              "      <td>5.602</td>\n",
              "      <td>16.20</td>\n",
              "      <td>17.9</td>\n",
              "      <td>407400.0</td>\n",
              "    </tr>\n",
              "    <tr>\n",
              "      <th>25</th>\n",
              "      <td>5.599</td>\n",
              "      <td>16.51</td>\n",
              "      <td>21.0</td>\n",
              "      <td>291900.0</td>\n",
              "    </tr>\n",
              "  </tbody>\n",
              "</table>\n",
              "</div>"
            ],
            "text/plain": [
              "        RM  LSTAT  PTRATIO      MEDV\n",
              "369  4.652  28.28     20.2  220500.0\n",
              "90   6.417   8.81     17.8  474600.0\n",
              "332  6.696   7.18     17.6  501900.0\n",
              "305  5.914  18.33     18.4  373800.0\n",
              "34   6.096  20.34     21.0  283500.0\n",
              "353  3.561   7.12     20.2  577500.0\n",
              "389  4.138  23.34     20.2  249900.0\n",
              "418  6.629  23.27     20.2  281400.0\n",
              "49   5.602  16.20     17.9  407400.0\n",
              "25   5.599  16.51     21.0  291900.0"
            ]
          },
          "metadata": {
            "tags": []
          },
          "execution_count": 6
        }
      ]
    },
    {
      "cell_type": "code",
      "metadata": {
        "colab": {
          "base_uri": "https://localhost:8080/"
        },
        "id": "6nWrw50wxdne",
        "outputId": "01ff3737-ce48-42e6-c0d1-bf5470fa42f0"
      },
      "source": [
        "df.info()"
      ],
      "execution_count": null,
      "outputs": [
        {
          "output_type": "stream",
          "text": [
            "<class 'pandas.core.frame.DataFrame'>\n",
            "RangeIndex: 489 entries, 0 to 488\n",
            "Data columns (total 4 columns):\n",
            " #   Column   Non-Null Count  Dtype  \n",
            "---  ------   --------------  -----  \n",
            " 0   RM       489 non-null    float64\n",
            " 1   LSTAT    489 non-null    float64\n",
            " 2   PTRATIO  489 non-null    float64\n",
            " 3   MEDV     489 non-null    float64\n",
            "dtypes: float64(4)\n",
            "memory usage: 15.4 KB\n"
          ],
          "name": "stdout"
        }
      ]
    },
    {
      "cell_type": "code",
      "metadata": {
        "colab": {
          "base_uri": "https://localhost:8080/",
          "height": 297
        },
        "id": "KAuvu0PLxghM",
        "outputId": "97926277-db0e-4fc7-db85-3c4d33fc86a7"
      },
      "source": [
        "df.describe()"
      ],
      "execution_count": null,
      "outputs": [
        {
          "output_type": "execute_result",
          "data": {
            "text/html": [
              "<div>\n",
              "<style scoped>\n",
              "    .dataframe tbody tr th:only-of-type {\n",
              "        vertical-align: middle;\n",
              "    }\n",
              "\n",
              "    .dataframe tbody tr th {\n",
              "        vertical-align: top;\n",
              "    }\n",
              "\n",
              "    .dataframe thead th {\n",
              "        text-align: right;\n",
              "    }\n",
              "</style>\n",
              "<table border=\"1\" class=\"dataframe\">\n",
              "  <thead>\n",
              "    <tr style=\"text-align: right;\">\n",
              "      <th></th>\n",
              "      <th>RM</th>\n",
              "      <th>LSTAT</th>\n",
              "      <th>PTRATIO</th>\n",
              "      <th>MEDV</th>\n",
              "    </tr>\n",
              "  </thead>\n",
              "  <tbody>\n",
              "    <tr>\n",
              "      <th>count</th>\n",
              "      <td>489.000000</td>\n",
              "      <td>489.000000</td>\n",
              "      <td>489.000000</td>\n",
              "      <td>4.890000e+02</td>\n",
              "    </tr>\n",
              "    <tr>\n",
              "      <th>mean</th>\n",
              "      <td>6.240288</td>\n",
              "      <td>12.939632</td>\n",
              "      <td>18.516564</td>\n",
              "      <td>4.543429e+05</td>\n",
              "    </tr>\n",
              "    <tr>\n",
              "      <th>std</th>\n",
              "      <td>0.643650</td>\n",
              "      <td>7.081990</td>\n",
              "      <td>2.111268</td>\n",
              "      <td>1.653403e+05</td>\n",
              "    </tr>\n",
              "    <tr>\n",
              "      <th>min</th>\n",
              "      <td>3.561000</td>\n",
              "      <td>1.980000</td>\n",
              "      <td>12.600000</td>\n",
              "      <td>1.050000e+05</td>\n",
              "    </tr>\n",
              "    <tr>\n",
              "      <th>25%</th>\n",
              "      <td>5.880000</td>\n",
              "      <td>7.370000</td>\n",
              "      <td>17.400000</td>\n",
              "      <td>3.507000e+05</td>\n",
              "    </tr>\n",
              "    <tr>\n",
              "      <th>50%</th>\n",
              "      <td>6.185000</td>\n",
              "      <td>11.690000</td>\n",
              "      <td>19.100000</td>\n",
              "      <td>4.389000e+05</td>\n",
              "    </tr>\n",
              "    <tr>\n",
              "      <th>75%</th>\n",
              "      <td>6.575000</td>\n",
              "      <td>17.120000</td>\n",
              "      <td>20.200000</td>\n",
              "      <td>5.187000e+05</td>\n",
              "    </tr>\n",
              "    <tr>\n",
              "      <th>max</th>\n",
              "      <td>8.398000</td>\n",
              "      <td>37.970000</td>\n",
              "      <td>22.000000</td>\n",
              "      <td>1.024800e+06</td>\n",
              "    </tr>\n",
              "  </tbody>\n",
              "</table>\n",
              "</div>"
            ],
            "text/plain": [
              "               RM       LSTAT     PTRATIO          MEDV\n",
              "count  489.000000  489.000000  489.000000  4.890000e+02\n",
              "mean     6.240288   12.939632   18.516564  4.543429e+05\n",
              "std      0.643650    7.081990    2.111268  1.653403e+05\n",
              "min      3.561000    1.980000   12.600000  1.050000e+05\n",
              "25%      5.880000    7.370000   17.400000  3.507000e+05\n",
              "50%      6.185000   11.690000   19.100000  4.389000e+05\n",
              "75%      6.575000   17.120000   20.200000  5.187000e+05\n",
              "max      8.398000   37.970000   22.000000  1.024800e+06"
            ]
          },
          "metadata": {
            "tags": []
          },
          "execution_count": 18
        }
      ]
    },
    {
      "cell_type": "code",
      "metadata": {
        "id": "2YA9AKwAt4vm"
      },
      "source": [
        "#plotting to see the relationship between each features and MEDV"
      ],
      "execution_count": null,
      "outputs": []
    },
    {
      "cell_type": "code",
      "metadata": {
        "colab": {
          "base_uri": "https://localhost:8080/",
          "height": 576
        },
        "id": "w2q_i1Yct_5Q",
        "outputId": "5a6b3c04-08f4-48e5-c20a-7e2ac976b38b"
      },
      "source": [
        "plt.figure(figsize = (20, 7))\n",
        "plt.subplot(131)\n",
        "plt.title('Number of rooms')\n",
        "sns.distplot(df['RM'])\n",
        "plt.ylabel('Frequency')\n",
        "\n",
        "plt.subplot(132)\n",
        "plt.title('Percentage of lower class owners')\n",
        "sns.distplot(df['LSTAT'])\n",
        "plt.ylabel('Frequency') \n",
        "\n",
        "plt.subplot(133)\n",
        "plt.title('Ratio of students to teachers')\n",
        "sns.distplot(df['PTRATIO'])\n",
        "plt.ylabel('Frequency')\n",
        "plt.show()"
      ],
      "execution_count": null,
      "outputs": [
        {
          "output_type": "stream",
          "text": [
            "/usr/local/lib/python3.7/dist-packages/seaborn/distributions.py:2557: FutureWarning: `distplot` is a deprecated function and will be removed in a future version. Please adapt your code to use either `displot` (a figure-level function with similar flexibility) or `histplot` (an axes-level function for histograms).\n",
            "  warnings.warn(msg, FutureWarning)\n",
            "/usr/local/lib/python3.7/dist-packages/seaborn/distributions.py:2557: FutureWarning: `distplot` is a deprecated function and will be removed in a future version. Please adapt your code to use either `displot` (a figure-level function with similar flexibility) or `histplot` (an axes-level function for histograms).\n",
            "  warnings.warn(msg, FutureWarning)\n",
            "/usr/local/lib/python3.7/dist-packages/seaborn/distributions.py:2557: FutureWarning: `distplot` is a deprecated function and will be removed in a future version. Please adapt your code to use either `displot` (a figure-level function with similar flexibility) or `histplot` (an axes-level function for histograms).\n",
            "  warnings.warn(msg, FutureWarning)\n"
          ],
          "name": "stderr"
        },
        {
          "output_type": "display_data",
          "data": {
            "image/png": "[encoded data removed]",
            "text/plain": [
              "<Figure size 1440x504 with 3 Axes>"
            ]
          },
          "metadata": {
            "tags": [],
            "needs_background": "light"
          }
        }
      ]
    },
    {
      "cell_type": "code",
      "metadata": {
        "colab": {
          "base_uri": "https://localhost:8080/",
          "height": 401
        },
        "id": "D-4tdZYEx3e9",
        "outputId": "f1d85cf0-0093-496e-9e64-f029a01e3133"
      },
      "source": [
        "plt.figure(figsize = (20, 6))\n",
        "plt.subplot(131)\n",
        "plt.title('Number of rooms vs Price')\n",
        "sns.scatterplot(x=df['RM'], y=df['MEDV'])\n",
        "\n",
        "plt.subplot(132)\n",
        "plt.title('Percentage of lower class owners vs Price')\n",
        "sns.scatterplot(x=df['LSTAT'], y=df['MEDV'])\n",
        "\n",
        "plt.subplot(133)\n",
        "plt.title('Ratio of students to teachers vs Price')\n",
        "sns.scatterplot(x=df['PTRATIO'], y=df['MEDV'])\n",
        "plt.show()\n"
      ],
      "execution_count": null,
      "outputs": [
        {
          "output_type": "display_data",
          "data": {
            "image/png": "[encoded data removed]",
            "text/plain": [
              "<Figure size 1440x432 with 3 Axes>"
            ]
          },
          "metadata": {
            "tags": [],
            "needs_background": "light"
          }
        }
      ]
    },
    {
      "cell_type": "markdown",
      "metadata": {
        "id": "tm2zf1cwzHko"
      },
      "source": [
        "# KNN"
      ]
    },
    {
      "cell_type": "markdown",
      "metadata": {
        "id": "5YzVu3p15W7-"
      },
      "source": [
        "## Choosing k"
      ]
    },
    {
      "cell_type": "code",
      "metadata": {
        "id": "tTRFEDLszP6-"
      },
      "source": [
        "from sklearn.pipeline import Pipeline\n",
        "from sklearn.preprocessing import StandardScaler\n",
        "from sklearn.model_selection import train_test_split\n",
        "from sklearn.model_selection import cross_val_score\n",
        "from sklearn.metrics import r2_score\n",
        "from sklearn.metrics import accuracy_score\n",
        "from sklearn.neighbors import KNeighborsRegressor"
      ],
      "execution_count": null,
      "outputs": []
    },
    {
      "cell_type": "code",
      "metadata": {
        "id": "kD-4DeU216D1"
      },
      "source": [
        "X, y = df.drop(columns = ['MEDV']), df['MEDV']"
      ],
      "execution_count": null,
      "outputs": []
    },
    {
      "cell_type": "code",
      "metadata": {
        "id": "OHKdd3RW2Kqc"
      },
      "source": [
        "#design pipeline\n",
        "preprocessor = Pipeline([('scaler', StandardScaler())])\n",
        "X_transformed = preprocessor.fit_transform(X)"
      ],
      "execution_count": null,
      "outputs": []
    },
    {
      "cell_type": "code",
      "metadata": {
        "colab": {
          "base_uri": "https://localhost:8080/",
          "height": 410
        },
        "id": "yG7wDkC03EwV",
        "outputId": "17396e4e-7365-4b30-f03b-e4de3839b7f4"
      },
      "source": [
        "#using cross validation to choose the best k, using r2 scoring\n",
        "val_error_rate = []\n",
        "neighbor_range = range(1, 50, 2)\n",
        "for i in neighbor_range:\n",
        "    knn = KNeighborsRegressor(n_neighbors=i, weights='uniform', p=2)\n",
        "    val_error = 1 - cross_val_score(knn, X_transformed, y, cv = 5, scoring = 'r2').mean()\n",
        "    val_error_rate.append(val_error)\n",
        "\n",
        "plt.figure(figsize=(12, 6))\n",
        "plt.plot(neighbor_range, val_error_rate, linestyle = 'dashed', color = 'salmon', marker = 'o', markerfacecolor='black', label = 'Validation error')\n",
        "plt.xticks(np.arange(neighbor_range.start, neighbor_range.stop, neighbor_range.step), rotation=45)\n",
        "plt.legend()\n",
        "plt.title('Validation error vs K')\n",
        "plt.xlabel('K')\n",
        "plt.ylabel('error rate')\n",
        "plt.show()"
      ],
      "execution_count": null,
      "outputs": [
        {
          "output_type": "display_data",
          "data": {
            "image/png": "[encoded data removed]",
            "text/plain": [
              "<Figure size 864x432 with 1 Axes>"
            ]
          },
          "metadata": {
            "tags": [],
            "needs_background": "light"
          }
        }
      ]
    },
    {
      "cell_type": "markdown",
      "metadata": {
        "id": "mbFNUfh949QW"
      },
      "source": [
        "We will choose k=11 as our hyperparameter for knn model"
      ]
    },
    {
      "cell_type": "code",
      "metadata": {
        "id": "mZ2_vN_dlLrW"
      },
      "source": [
        ""
      ],
      "execution_count": null,
      "outputs": []
    },
    {
      "cell_type": "markdown",
      "metadata": {
        "id": "OfIPh2W57gqr"
      },
      "source": [
        "Note: in sklearn, KNeighborRegressor uses R2 for score"
      ]
    },
    {
      "cell_type": "markdown",
      "metadata": {
        "id": "7as56r9GlHlK"
      },
      "source": [
        "R2, however, are only good to evaluate linear model (My mistake! Thank you Luke for pointing this out. Reference: https://statisticsbyjim.com/regression/r-squared-invalid-nonlinear-regression/). So for this one, it's actually better to use MAE (mean absolute error) as another metrics to compare non-linear ML models"
      ]
    },
    {
      "cell_type": "code",
      "metadata": {
        "id": "oQgALxKkkEo3"
      },
      "source": [
        "#should print the scores out to check\n",
        "print(mean_absolute_error(y_true,y_pred))"
      ],
      "execution_count": null,
      "outputs": []
    },
    {
      "cell_type": "markdown",
      "metadata": {
        "id": "qakxFwpX-PTG"
      },
      "source": [
        "## Design final pipeline and model"
      ]
    },
    {
      "cell_type": "markdown",
      "metadata": {
        "id": "WPhAXfAmb08i"
      },
      "source": [
        "We will first run model with k=11"
      ]
    },
    {
      "cell_type": "code",
      "metadata": {
        "id": "Ns6JtkO47xxo"
      },
      "source": [
        "X_train, X_test, y_train, y_test = train_test_split(df.drop(columns=['MEDV']), df['MEDV'], test_size = 0.2, random_state = 50)"
      ],
      "execution_count": null,
      "outputs": []
    },
    {
      "cell_type": "code",
      "metadata": {
        "colab": {
          "base_uri": "https://localhost:8080/"
        },
        "id": "US2f3l7M5Gri",
        "outputId": "7ecfc905-dbe2-41d2-de04-0eb869dad2f7"
      },
      "source": [
        "#design pipeline again to put in our model\n",
        "final_pipe = Pipeline([('scaler', StandardScaler()), ('model', KNeighborsRegressor(n_neighbors=11, weights='uniform', p=2))])\n",
        "final_pipe.fit(X_train, y_train)"
      ],
      "execution_count": null,
      "outputs": [
        {
          "output_type": "execute_result",
          "data": {
            "text/plain": [
              "Pipeline(memory=None,\n",
              "         steps=[('scaler',\n",
              "                 StandardScaler(copy=True, with_mean=True, with_std=True)),\n",
              "                ('model',\n",
              "                 KNeighborsRegressor(algorithm='auto', leaf_size=30,\n",
              "                                     metric='minkowski', metric_params=None,\n",
              "                                     n_jobs=None, n_neighbors=11, p=2,\n",
              "                                     weights='uniform'))],\n",
              "         verbose=False)"
            ]
          },
          "metadata": {
            "tags": []
          },
          "execution_count": 31
        }
      ]
    },
    {
      "cell_type": "code",
      "metadata": {
        "colab": {
          "base_uri": "https://localhost:8080/"
        },
        "id": "o2g0SKsL8cIk",
        "outputId": "57208599-38d9-4b6d-8958-160044c5c3e4"
      },
      "source": [
        "#predict training and test data\n",
        "y_train_pred = final_pipe.predict(X_train)\n",
        "y_test_pred = final_pipe.predict(X_test)\n",
        "train_score = final_pipe.score(X_train, y_train)\n",
        "test_score = final_pipe.score(X_test, y_test)\n",
        "print(f'Score of train set: {train_score}\\n\\nScore of test set: {test_score}')"
      ],
      "execution_count": null,
      "outputs": [
        {
          "output_type": "stream",
          "text": [
            "Score of train set: 0.8571117991528211\n",
            "\n",
            "Score of test set: 0.823256675383812\n"
          ],
          "name": "stdout"
        }
      ]
    },
    {
      "cell_type": "code",
      "metadata": {
        "colab": {
          "base_uri": "https://localhost:8080/"
        },
        "id": "IvbZf6RjIsPc",
        "outputId": "17aafe2c-1289-4b5c-de9c-ee45e08d41fc"
      },
      "source": [
        "X_test.shape"
      ],
      "execution_count": null,
      "outputs": [
        {
          "output_type": "execute_result",
          "data": {
            "text/plain": [
              "(98, 3)"
            ]
          },
          "metadata": {
            "tags": []
          },
          "execution_count": 33
        }
      ]
    },
    {
      "cell_type": "code",
      "metadata": {
        "colab": {
          "base_uri": "https://localhost:8080/"
        },
        "id": "l_zomVKfIY2E",
        "outputId": "81076c72-3657-4412-ee10-79fd40a4dae7"
      },
      "source": [
        "#Final test\n",
        "X_t = pd.DataFrame(data = [[5, 17.0, 15], [4, 32, 22], [8, 3, 12]])\n",
        "y_t_pred = final_pipe.predict(X_t)\n",
        "print(y_t_pred)"
      ],
      "execution_count": null,
      "outputs": [
        {
          "output_type": "stream",
          "text": [
            "[374754.54545455 231763.63636364 857754.54545455]\n"
          ],
          "name": "stdout"
        }
      ]
    },
    {
      "cell_type": "code",
      "metadata": {
        "colab": {
          "base_uri": "https://localhost:8080/",
          "height": 793
        },
        "id": "qCFMMDKEKliG",
        "outputId": "8e516f7c-4335-4216-c178-011d9ee86fa3"
      },
      "source": [
        "df[(df['MEDV'] < 260000) & (df['MEDV']> 200000)]"
      ],
      "execution_count": null,
      "outputs": [
        {
          "output_type": "execute_result",
          "data": {
            "text/html": [
              "<div>\n",
              "<style scoped>\n",
              "    .dataframe tbody tr th:only-of-type {\n",
              "        vertical-align: middle;\n",
              "    }\n",
              "\n",
              "    .dataframe tbody tr th {\n",
              "        vertical-align: top;\n",
              "    }\n",
              "\n",
              "    .dataframe thead th {\n",
              "        text-align: right;\n",
              "    }\n",
              "</style>\n",
              "<table border=\"1\" class=\"dataframe\">\n",
              "  <thead>\n",
              "    <tr style=\"text-align: right;\">\n",
              "      <th></th>\n",
              "      <th>RM</th>\n",
              "      <th>LSTAT</th>\n",
              "      <th>PTRATIO</th>\n",
              "      <th>MEDV</th>\n",
              "    </tr>\n",
              "  </thead>\n",
              "  <tbody>\n",
              "    <tr>\n",
              "      <th>144</th>\n",
              "      <td>4.903</td>\n",
              "      <td>29.29</td>\n",
              "      <td>14.7</td>\n",
              "      <td>247800.0</td>\n",
              "    </tr>\n",
              "    <tr>\n",
              "      <th>362</th>\n",
              "      <td>6.223</td>\n",
              "      <td>21.78</td>\n",
              "      <td>20.2</td>\n",
              "      <td>214200.0</td>\n",
              "    </tr>\n",
              "    <tr>\n",
              "      <th>363</th>\n",
              "      <td>6.968</td>\n",
              "      <td>17.21</td>\n",
              "      <td>20.2</td>\n",
              "      <td>218400.0</td>\n",
              "    </tr>\n",
              "    <tr>\n",
              "      <th>364</th>\n",
              "      <td>6.545</td>\n",
              "      <td>21.08</td>\n",
              "      <td>20.2</td>\n",
              "      <td>228900.0</td>\n",
              "    </tr>\n",
              "    <tr>\n",
              "      <th>365</th>\n",
              "      <td>5.536</td>\n",
              "      <td>23.60</td>\n",
              "      <td>20.2</td>\n",
              "      <td>237300.0</td>\n",
              "    </tr>\n",
              "    <tr>\n",
              "      <th>366</th>\n",
              "      <td>5.520</td>\n",
              "      <td>24.56</td>\n",
              "      <td>20.2</td>\n",
              "      <td>258300.0</td>\n",
              "    </tr>\n",
              "    <tr>\n",
              "      <th>369</th>\n",
              "      <td>4.652</td>\n",
              "      <td>28.28</td>\n",
              "      <td>20.2</td>\n",
              "      <td>220500.0</td>\n",
              "    </tr>\n",
              "    <tr>\n",
              "      <th>371</th>\n",
              "      <td>4.880</td>\n",
              "      <td>30.62</td>\n",
              "      <td>20.2</td>\n",
              "      <td>214200.0</td>\n",
              "    </tr>\n",
              "    <tr>\n",
              "      <th>372</th>\n",
              "      <td>5.390</td>\n",
              "      <td>20.85</td>\n",
              "      <td>20.2</td>\n",
              "      <td>241500.0</td>\n",
              "    </tr>\n",
              "    <tr>\n",
              "      <th>375</th>\n",
              "      <td>5.036</td>\n",
              "      <td>25.68</td>\n",
              "      <td>20.2</td>\n",
              "      <td>203700.0</td>\n",
              "    </tr>\n",
              "    <tr>\n",
              "      <th>385</th>\n",
              "      <td>6.404</td>\n",
              "      <td>20.31</td>\n",
              "      <td>20.2</td>\n",
              "      <td>254100.0</td>\n",
              "    </tr>\n",
              "    <tr>\n",
              "      <th>389</th>\n",
              "      <td>4.138</td>\n",
              "      <td>23.34</td>\n",
              "      <td>20.2</td>\n",
              "      <td>249900.0</td>\n",
              "    </tr>\n",
              "    <tr>\n",
              "      <th>400</th>\n",
              "      <td>5.304</td>\n",
              "      <td>26.64</td>\n",
              "      <td>20.2</td>\n",
              "      <td>218400.0</td>\n",
              "    </tr>\n",
              "    <tr>\n",
              "      <th>407</th>\n",
              "      <td>5.565</td>\n",
              "      <td>17.16</td>\n",
              "      <td>20.2</td>\n",
              "      <td>245700.0</td>\n",
              "    </tr>\n",
              "    <tr>\n",
              "      <th>409</th>\n",
              "      <td>5.837</td>\n",
              "      <td>15.69</td>\n",
              "      <td>20.2</td>\n",
              "      <td>214200.0</td>\n",
              "    </tr>\n",
              "    <tr>\n",
              "      <th>410</th>\n",
              "      <td>6.202</td>\n",
              "      <td>14.52</td>\n",
              "      <td>20.2</td>\n",
              "      <td>228900.0</td>\n",
              "    </tr>\n",
              "    <tr>\n",
              "      <th>411</th>\n",
              "      <td>6.193</td>\n",
              "      <td>21.52</td>\n",
              "      <td>20.2</td>\n",
              "      <td>231000.0</td>\n",
              "    </tr>\n",
              "    <tr>\n",
              "      <th>417</th>\n",
              "      <td>6.208</td>\n",
              "      <td>15.17</td>\n",
              "      <td>20.2</td>\n",
              "      <td>245700.0</td>\n",
              "    </tr>\n",
              "    <tr>\n",
              "      <th>419</th>\n",
              "      <td>6.461</td>\n",
              "      <td>18.05</td>\n",
              "      <td>20.2</td>\n",
              "      <td>201600.0</td>\n",
              "    </tr>\n",
              "    <tr>\n",
              "      <th>423</th>\n",
              "      <td>5.818</td>\n",
              "      <td>22.11</td>\n",
              "      <td>20.2</td>\n",
              "      <td>220500.0</td>\n",
              "    </tr>\n",
              "    <tr>\n",
              "      <th>427</th>\n",
              "      <td>5.854</td>\n",
              "      <td>23.79</td>\n",
              "      <td>20.2</td>\n",
              "      <td>226800.0</td>\n",
              "    </tr>\n",
              "    <tr>\n",
              "      <th>428</th>\n",
              "      <td>6.459</td>\n",
              "      <td>23.98</td>\n",
              "      <td>20.2</td>\n",
              "      <td>247800.0</td>\n",
              "    </tr>\n",
              "    <tr>\n",
              "      <th>460</th>\n",
              "      <td>5.304</td>\n",
              "      <td>24.91</td>\n",
              "      <td>20.2</td>\n",
              "      <td>252000.0</td>\n",
              "    </tr>\n",
              "    <tr>\n",
              "      <th>488</th>\n",
              "      <td>6.030</td>\n",
              "      <td>7.88</td>\n",
              "      <td>21.0</td>\n",
              "      <td>249900.0</td>\n",
              "    </tr>\n",
              "  </tbody>\n",
              "</table>\n",
              "</div>"
            ],
            "text/plain": [
              "        RM  LSTAT  PTRATIO      MEDV\n",
              "144  4.903  29.29     14.7  247800.0\n",
              "362  6.223  21.78     20.2  214200.0\n",
              "363  6.968  17.21     20.2  218400.0\n",
              "364  6.545  21.08     20.2  228900.0\n",
              "365  5.536  23.60     20.2  237300.0\n",
              "366  5.520  24.56     20.2  258300.0\n",
              "369  4.652  28.28     20.2  220500.0\n",
              "371  4.880  30.62     20.2  214200.0\n",
              "372  5.390  20.85     20.2  241500.0\n",
              "375  5.036  25.68     20.2  203700.0\n",
              "385  6.404  20.31     20.2  254100.0\n",
              "389  4.138  23.34     20.2  249900.0\n",
              "400  5.304  26.64     20.2  218400.0\n",
              "407  5.565  17.16     20.2  245700.0\n",
              "409  5.837  15.69     20.2  214200.0\n",
              "410  6.202  14.52     20.2  228900.0\n",
              "411  6.193  21.52     20.2  231000.0\n",
              "417  6.208  15.17     20.2  245700.0\n",
              "419  6.461  18.05     20.2  201600.0\n",
              "423  5.818  22.11     20.2  220500.0\n",
              "427  5.854  23.79     20.2  226800.0\n",
              "428  6.459  23.98     20.2  247800.0\n",
              "460  5.304  24.91     20.2  252000.0\n",
              "488  6.030   7.88     21.0  249900.0"
            ]
          },
          "metadata": {
            "tags": []
          },
          "execution_count": 35
        }
      ]
    },
    {
      "cell_type": "markdown",
      "metadata": {
        "id": "XNskYxJMeRzb"
      },
      "source": [
        "After looking at the houses in similar range, the first and the the third prices seem more reasonable than the 2nd price. It's because comparing to other houses in the similar price range, the second house has the worst features but it has the highest price. \n",
        "\n",
        "As the score for the model is around 80%, I think we can get its prediction but just for reference. "
      ]
    },
    {
      "cell_type": "markdown",
      "metadata": {
        "id": "Cv_cO0moRdG8"
      },
      "source": [
        "When you print out the coefficience and the graphs to see the relationship between each features so the PTRATIO and price has moderate correlation, weaker than others"
      ]
    },
    {
      "cell_type": "markdown",
      "metadata": {
        "id": "wK8B3NRlbigf"
      },
      "source": [
        "## Use GridSearchCV"
      ]
    },
    {
      "cell_type": "code",
      "metadata": {
        "colab": {
          "base_uri": "https://localhost:8080/"
        },
        "id": "JZBtcKsBV72V",
        "outputId": "392b7c6e-b924-483c-bb4a-f2a6028fb12d"
      },
      "source": [
        "#using gridsearchCV\n",
        "from sklearn.model_selection import GridSearchCV\n",
        "knn = KNeighborsRegressor()\n",
        "neighbor_range = list(range(1, 100, 2))\n",
        "p = [1,2]\n",
        "parameter = dict(n_neighbors=neighbor_range, p=p)\n",
        "grid = GridSearchCV(knn, parameter, cv = 5, scoring='r2')\n",
        "grid.fit(X_transformed, y)"
      ],
      "execution_count": null,
      "outputs": [
        {
          "output_type": "execute_result",
          "data": {
            "text/plain": [
              "GridSearchCV(cv=5, error_score=nan,\n",
              "             estimator=KNeighborsRegressor(algorithm='auto', leaf_size=30,\n",
              "                                           metric='minkowski',\n",
              "                                           metric_params=None, n_jobs=None,\n",
              "                                           n_neighbors=5, p=2,\n",
              "                                           weights='uniform'),\n",
              "             iid='deprecated', n_jobs=None,\n",
              "             param_grid={'n_neighbors': [1, 3, 5, 7, 9, 11, 13, 15, 17, 19, 21,\n",
              "                                         23, 25, 27, 29, 31, 33, 35, 37, 39, 41,\n",
              "                                         43, 45, 47, 49, 51, 53, 55, 57, 59, ...],\n",
              "                         'p': [1, 2]},\n",
              "             pre_dispatch='2*n_jobs', refit=True, return_train_score=False,\n",
              "             scoring='r2', verbose=0)"
            ]
          },
          "metadata": {
            "tags": []
          },
          "execution_count": 22
        }
      ]
    },
    {
      "cell_type": "code",
      "metadata": {
        "colab": {
          "base_uri": "https://localhost:8080/"
        },
        "id": "QgWcYp7AbCOs",
        "outputId": "cf78c6d6-73cb-48b0-ba1d-d066879474b9"
      },
      "source": [
        "print(grid.best_estimator_)\n",
        "print(grid.best_params_)"
      ],
      "execution_count": null,
      "outputs": [
        {
          "output_type": "stream",
          "text": [
            "KNeighborsRegressor(algorithm='auto', leaf_size=30, metric='minkowski',\n",
            "                    metric_params=None, n_jobs=None, n_neighbors=15, p=1,\n",
            "                    weights='uniform')\n",
            "{'n_neighbors': 15, 'p': 1}\n"
          ],
          "name": "stdout"
        }
      ]
    },
    {
      "cell_type": "code",
      "metadata": {
        "id": "2mYbko08cRVY"
      },
      "source": [
        "X_train, X_test, y_train, y_test = train_test_split(df.drop(columns=['MEDV']), df['MEDV'], test_size = 0.2, random_state = 50)"
      ],
      "execution_count": null,
      "outputs": []
    },
    {
      "cell_type": "code",
      "metadata": {
        "colab": {
          "base_uri": "https://localhost:8080/"
        },
        "id": "tK6R2hkycSSc",
        "outputId": "d2353af3-4f51-4d87-9f5b-40528afb8639"
      },
      "source": [
        "final_pipe = Pipeline([('scaler', StandardScaler()), ('model', KNeighborsRegressor(n_neighbors=15, p=1))])\n",
        "final_pipe.fit(X_train, y_train)"
      ],
      "execution_count": null,
      "outputs": [
        {
          "output_type": "execute_result",
          "data": {
            "text/plain": [
              "Pipeline(memory=None,\n",
              "         steps=[('scaler',\n",
              "                 StandardScaler(copy=True, with_mean=True, with_std=True)),\n",
              "                ('model',\n",
              "                 KNeighborsRegressor(algorithm='auto', leaf_size=30,\n",
              "                                     metric='minkowski', metric_params=None,\n",
              "                                     n_jobs=None, n_neighbors=15, p=1,\n",
              "                                     weights='uniform'))],\n",
              "         verbose=False)"
            ]
          },
          "metadata": {
            "tags": []
          },
          "execution_count": 40
        }
      ]
    },
    {
      "cell_type": "code",
      "metadata": {
        "colab": {
          "base_uri": "https://localhost:8080/"
        },
        "id": "NSPy7e0gct06",
        "outputId": "d44ff1a7-c569-42c2-a9b6-b55b876ece9b"
      },
      "source": [
        "y_train_pred = final_pipe.predict(X_train)\n",
        "y_test_pred = final_pipe.predict(X_test)\n",
        "y_train_score = final_pipe.score(X_train, y_train)\n",
        "test_score = final_pipe.score(X_test, y_test)\n",
        "print(f'Score of train set: {train_score}\\n\\nScore of test set: {test_score}')"
      ],
      "execution_count": null,
      "outputs": [
        {
          "output_type": "stream",
          "text": [
            "Score of train set: 0.8571117991528211\n",
            "\n",
            "Score of test set: 0.8251476184214879\n"
          ],
          "name": "stdout"
        }
      ]
    },
    {
      "cell_type": "markdown",
      "metadata": {
        "id": "DojCAnO4de23"
      },
      "source": [
        "In comparison between manually finding K and using GridSearchCV, using k and p chosen by GridSearchCV did help the score for test set improve but just an insignifican amount. "
      ]
    },
    {
      "cell_type": "markdown",
      "metadata": {
        "id": "mBMKo3hq-bKm"
      },
      "source": [
        "# Linear Regression"
      ]
    },
    {
      "cell_type": "code",
      "metadata": {
        "id": "9K5JxxNnQ2bK"
      },
      "source": [
        "from sklearn.linear_model import LinearRegression"
      ],
      "execution_count": null,
      "outputs": []
    },
    {
      "cell_type": "code",
      "metadata": {
        "id": "z_BeiVtP_gA2"
      },
      "source": [
        "X_train, X_test, y_train, y_test = train_test_split(df.drop(columns=['MEDV']), df['MEDV'], test_size = 0.2, random_state = 50)"
      ],
      "execution_count": null,
      "outputs": []
    },
    {
      "cell_type": "code",
      "metadata": {
        "colab": {
          "base_uri": "https://localhost:8080/"
        },
        "id": "CyJubORf_ibW",
        "outputId": "81b18f85-b849-4eaa-dfd5-80dd9b9fe8d0"
      },
      "source": [
        "#design pipeline again to put in our model\n",
        "final_pipe = Pipeline([('scaler', StandardScaler()), ('model', LinearRegression())])\n",
        "final_pipe.fit(X_train, y_train)"
      ],
      "execution_count": null,
      "outputs": [
        {
          "output_type": "execute_result",
          "data": {
            "text/plain": [
              "Pipeline(memory=None,\n",
              "         steps=[('scaler',\n",
              "                 StandardScaler(copy=True, with_mean=True, with_std=True)),\n",
              "                ('model',\n",
              "                 LinearRegression(copy_X=True, fit_intercept=True, n_jobs=None,\n",
              "                                  normalize=False))],\n",
              "         verbose=False)"
            ]
          },
          "metadata": {
            "tags": []
          },
          "execution_count": 10
        }
      ]
    },
    {
      "cell_type": "code",
      "metadata": {
        "colab": {
          "base_uri": "https://localhost:8080/"
        },
        "id": "WGQwXtsr_zeP",
        "outputId": "87af1864-aff7-48c5-8534-3fab2131d39f"
      },
      "source": [
        "#predict training and test data\n",
        "y_train_pred = final_pipe.predict(X_train)\n",
        "y_test_pred = final_pipe.predict(X_test)\n",
        "train_score = r2_score(y_train, y_train_pred)\n",
        "test_score = r2_score(y_test, y_test_pred)\n",
        "print(f'Score of train set: {train_score}\\n\\nScore of test set: {test_score}')"
      ],
      "execution_count": null,
      "outputs": [
        {
          "output_type": "stream",
          "text": [
            "Score of train set: 0.705129386350591\n",
            "\n",
            "Score of test set: 0.7686078411973889\n"
          ],
          "name": "stdout"
        }
      ]
    },
    {
      "cell_type": "markdown",
      "metadata": {
        "id": "hUX6ulp4Ig-4"
      },
      "source": [
        "## Using Ridge"
      ]
    },
    {
      "cell_type": "code",
      "metadata": {
        "id": "CN0vl8xvI8rI"
      },
      "source": [
        "#using Ridge to check\n",
        "from sklearn.linear_model import Ridge \n",
        "X,y = df.drop(columns = ['MEDV']), df['MEDV']"
      ],
      "execution_count": null,
      "outputs": []
    },
    {
      "cell_type": "code",
      "metadata": {
        "id": "csUmFPS_RcFr"
      },
      "source": [
        "#design pipeline\n",
        "# preprocessor = Pipeline([('scaler', StandardScaler())])\n",
        "# X_transformed = preprocessor.fit_transform(X)\n",
        "#no need to use this, we will use normalize in Ridge "
      ],
      "execution_count": null,
      "outputs": []
    },
    {
      "cell_type": "code",
      "metadata": {
        "colab": {
          "base_uri": "https://localhost:8080/",
          "height": 421
        },
        "id": "_sTEa159Rrz5",
        "outputId": "6e3d3147-70e4-4bd3-fc9a-259121bf2cea"
      },
      "source": [
        "#using cross validation to choose the best k, using r2 scoring\n",
        "val_error_rate = []\n",
        "alpha_range = [0.001, 0.01, 0.1]\n",
        "for i in alpha_range:\n",
        "    ridge = Ridge(alpha=i, normalize=True)\n",
        "    val_error = 1 - cross_val_score(ridge, X, y, cv = 5, scoring = 'r2').mean()\n",
        "    val_error_rate.append(val_error)\n",
        "\n",
        "plt.figure(figsize=(12, 6))\n",
        "plt.plot(alpha_range, val_error_rate, linestyle = 'dashed', color = 'salmon', marker = 'o', markerfacecolor='black', label = 'Validation error')\n",
        "plt.xticks((alpha_range), rotation=45)\n",
        "plt.legend()\n",
        "plt.title('Validation error vs alpha')\n",
        "plt.xlabel('alpha')\n",
        "plt.ylabel('error rate')\n",
        "plt.show()"
      ],
      "execution_count": null,
      "outputs": [
        {
          "output_type": "display_data",
          "data": {
            "image/png": "[encoded data removed]",
            "text/plain": [
              "<Figure size 864x432 with 1 Axes>"
            ]
          },
          "metadata": {
            "tags": [],
            "needs_background": "light"
          }
        }
      ]
    },
    {
      "cell_type": "markdown",
      "metadata": {
        "id": "ZWakpWDVVi8O"
      },
      "source": [
        "So here we will choose alpha = 0.1"
      ]
    },
    {
      "cell_type": "code",
      "metadata": {
        "id": "u6Mc0ModVipB"
      },
      "source": [
        "X_train, X_test, y_train, y_test = train_test_split(df.drop(columns=['MEDV']), df['MEDV'], test_size = 0.2, random_state = 50)"
      ],
      "execution_count": null,
      "outputs": []
    },
    {
      "cell_type": "code",
      "metadata": {
        "colab": {
          "base_uri": "https://localhost:8080/"
        },
        "id": "4rIR3rmRWLqQ",
        "outputId": "713886bd-1f40-41ca-a797-7ea6a13494f2"
      },
      "source": [
        "ridge = Ridge(alpha=0.1, normalize=True)\n",
        "ridge.fit(X_train, y_train)"
      ],
      "execution_count": null,
      "outputs": [
        {
          "output_type": "execute_result",
          "data": {
            "text/plain": [
              "Ridge(alpha=0.1, copy_X=True, fit_intercept=True, max_iter=None, normalize=True,\n",
              "      random_state=None, solver='auto', tol=0.001)"
            ]
          },
          "metadata": {
            "tags": []
          },
          "execution_count": 35
        }
      ]
    },
    {
      "cell_type": "code",
      "metadata": {
        "colab": {
          "base_uri": "https://localhost:8080/"
        },
        "id": "VyAMAb_EW_y4",
        "outputId": "9bd3dceb-c953-4232-ad1b-bd8ca4824dfa"
      },
      "source": [
        "y_train_pred = ridge.predict(X_train)\n",
        "y_test_pred = ridge.predict(X_test)\n",
        "train_score = r2_score(y_train, y_train_pred)\n",
        "test_score = r2_score(y_test, y_test_pred)\n",
        "print(f'r2 score of train set: {train_score}\\n\\nr2 score of test set: {test_score}')"
      ],
      "execution_count": null,
      "outputs": [
        {
          "output_type": "stream",
          "text": [
            "r2 score of train set: 0.7031737442330546\n",
            "\n",
            "r2 score of test set: 0.7624478607914132\n"
          ],
          "name": "stdout"
        }
      ]
    },
    {
      "cell_type": "markdown",
      "metadata": {
        "id": "MRRmaXw9G0P3"
      },
      "source": [
        "Note: I think KNN is working better since it is more flexible since we don't make an assumption about our f(x) (that our features have linear relationships)"
      ]
    },
    {
      "cell_type": "markdown",
      "metadata": {
        "id": "fcHyl7TqM2tj"
      },
      "source": [
        "# Conclusion"
      ]
    },
    {
      "cell_type": "markdown",
      "metadata": {
        "id": "R7HAdXNyM_t5"
      },
      "source": [
        "The fact that the data was collected in 1978 makes this data set less relevant to today-market. Inflation plays an important role here as many factors in society, economy and market have changed which results in the difference in house prices. Hence, using this data set to predict current house prices will only be good for reference\n",
        "\n",
        "Though the 3 features we have here are important in determining the price of a house, it is insufficient. There are many other factors that may influence the price, for example, the condition of the house or of the appliances, the availibility of extra things like pools, garages,...\n",
        "\n",
        "As our model only has 3 features and not that complex, it may not be consistent in prediction if we putting in some odd cases. And obviously a model that is trained with urban dataset would be insufficient to apply to rural areas because of the differences in their characteristics. Those characteristics in a sense would decide the influential degree of different features in the 2 kinds of areas. \n",
        "\n",
        "In my opinion, it is not really fair to judge the price of a house based only on its surroundings (neighborhood). These features certainly are important and have big influences on the price, but there are other features that may play an important role as well\n",
        "\n"
      ]
    }
  ]
}